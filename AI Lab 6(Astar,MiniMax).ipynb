{
 "cells": [
  {
   "cell_type": "code",
   "execution_count": 1,
   "id": "26702789",
   "metadata": {
    "ExecuteTime": {
     "end_time": "2023-05-09T17:29:59.436375Z",
     "start_time": "2023-05-09T17:29:59.421087Z"
    }
   },
   "outputs": [],
   "source": [
    "import heapq\n",
    "\n",
    "def reconstruct_path(cameFrom, current):\n",
    "    total_path = [current]\n",
    "    while current in cameFrom:\n",
    "        current = cameFrom[current]\n",
    "        total_path.insert(0, current)\n",
    "    return total_path\n",
    "\n",
    "def A_star(start, goal, neighbors, heuristic):\n",
    "    openSet = [(0, start)] # heap queue ordered by increasing f()\n",
    "    cameFrom = {}\n",
    "    gScore = {start: 0}\n",
    "    fScore = {start: heuristic(start, goal)}\n",
    "    while openSet:\n",
    "        current = heapq.heappop(openSet)[1]\n",
    "        if current == goal:\n",
    "            return reconstruct_path(cameFrom, current)\n",
    "        for neighbor in neighbors(current):\n",
    "            tentative_gScore = gScore[current] + neighbors(current, neighbor)\n",
    "            if tentative_gScore < gScore.get(neighbor, float('inf')):\n",
    "                cameFrom[neighbor] = current\n",
    "                gScore[neighbor] = tentative_gScore\n",
    "                fScore[neighbor] = tentative_gScore + heuristic(neighbor, goal)\n",
    "                heapq.heappush(openSet, (fScore[neighbor], neighbor))\n",
    "    return None # no path found\n"
   ]
  },
  {
   "cell_type": "code",
   "execution_count": 1,
   "id": "6d6f2144",
   "metadata": {
    "ExecuteTime": {
     "end_time": "2023-07-03T17:11:28.334094Z",
     "start_time": "2023-07-03T17:11:04.683833Z"
    }
   },
   "outputs": [
    {
     "name": "stdout",
     "output_type": "stream",
     "text": [
      "Best move: (0, 0)\n"
     ]
    }
   ],
   "source": [
    "import numpy as np\n",
    "\n",
    "# Constants for representing players\n",
    "PLAYER_X = 1\n",
    "PLAYER_O = -1\n",
    "EMPTY = 0\n",
    "\n",
    "def evaluate(board):\n",
    "    # Function to evaluate the current board state and return a value\n",
    "    # +1 for a win by player X, -1 for a win by player O, 0 for a draw\n",
    "    # Returns None for an ongoing game\n",
    "    # Assumes the board is a 3x3 numpy array\n",
    "    # Implement the evaluation logic according to the rules of Tic Tac Toe\n",
    "    pass\n",
    "\n",
    "def is_terminal_state(board):\n",
    "    # Function to check if the current board state is a terminal state\n",
    "    # Returns True if the game is over, False otherwise\n",
    "    # Assumes the board is a 3x3 numpy array\n",
    "    # Implement the terminal state conditions (win, draw, or no more moves)\n",
    "    pass\n",
    "\n",
    "def get_possible_moves(board):\n",
    "    # Function to get a list of possible moves from the current board state\n",
    "    # Returns a list of tuples, where each tuple represents the (row, column) indices of an empty cell\n",
    "    # Assumes the board is a 3x3 numpy array\n",
    "    moves = []\n",
    "    for i in range(3):\n",
    "        for j in range(3):\n",
    "            if board[i][j] == EMPTY:\n",
    "                moves.append((i, j))\n",
    "    return moves\n",
    "\n",
    "def make_move(board, move, player):\n",
    "    # Function to make a move on the board\n",
    "    # Returns a new board state after applying the move\n",
    "    # Assumes the board is a 3x3 numpy array\n",
    "    new_board = board.copy()\n",
    "    new_board[move] = player\n",
    "    return new_board\n",
    "\n",
    "def minimax(board, depth, isMaximizingPlayer):\n",
    "    if is_terminal_state(board):\n",
    "        return evaluate(board)\n",
    "\n",
    "    if isMaximizingPlayer:\n",
    "        bestVal = float('-inf')\n",
    "        for move in get_possible_moves(board):\n",
    "            new_board = make_move(board, move, PLAYER_X)\n",
    "            value = minimax(new_board, depth + 1, False)\n",
    "            bestVal = max(bestVal, value)\n",
    "        return bestVal\n",
    "    else:\n",
    "        bestVal = float('inf')\n",
    "        for move in get_possible_moves(board):\n",
    "            new_board = make_move(board, move, PLAYER_O)\n",
    "            value = minimax(new_board, depth + 1, True)\n",
    "            bestVal = min(bestVal, value)\n",
    "        return bestVal\n",
    "\n",
    "# Example usage:\n",
    "board = np.zeros((3, 3), dtype=int)\n",
    "\n",
    "best_move = None\n",
    "best_value = float('-inf')\n",
    "\n",
    "for move in get_possible_moves(board):\n",
    "    new_board = make_move(board, move, PLAYER_X)\n",
    "    value = minimax(new_board, 0, False)\n",
    "\n",
    "    if value > best_value:\n",
    "        best_value = value\n",
    "        best_move = move\n",
    "\n",
    "print(\"Best move:\", best_move)"
   ]
  }
 ],
 "metadata": {
  "hide_input": false,
  "kernelspec": {
   "display_name": "Python 3 (ipykernel)",
   "language": "python",
   "name": "python3"
  },
  "language_info": {
   "codemirror_mode": {
    "name": "ipython",
    "version": 3
   },
   "file_extension": ".py",
   "mimetype": "text/x-python",
   "name": "python",
   "nbconvert_exporter": "python",
   "pygments_lexer": "ipython3",
   "version": "3.9.7"
  }
 },
 "nbformat": 4,
 "nbformat_minor": 5
}
