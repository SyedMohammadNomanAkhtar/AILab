{
 "cells": [
  {
   "cell_type": "code",
   "execution_count": 23,
   "id": "6a0d4d79",
   "metadata": {
    "ExecuteTime": {
     "end_time": "2023-05-29T16:15:13.707243Z",
     "start_time": "2023-05-29T16:15:13.697117Z"
    }
   },
   "outputs": [],
   "source": [
    "import pandas as pd,scipy,numpy as np\n",
    "from sklearn.preprocessing import MinMaxScaler, StandardScaler, LabelEncoder\n",
    "from sklearn.model_selection import train_test_split, cross_val_score\n",
    "from sklearn.neighbors import KNeighborsClassifier\n",
    "from sklearn.metrics import accuracy_score, confusion_matrix, classification_report"
   ]
  },
  {
   "cell_type": "code",
   "execution_count": null,
   "id": "037f64bb",
   "metadata": {
    "ExecuteTime": {
     "end_time": "2023-05-28T14:56:04.355831Z",
     "start_time": "2023-05-28T14:56:04.179644Z"
    }
   },
   "outputs": [],
   "source": [
    "ds = pd.read_excel(r\"Job_Scheduling.xlsx\")\n",
    "x = ds.iloc[:,0:4].values\n",
    "y = ds.iloc[:,4].values"
   ]
  },
  {
   "cell_type": "code",
   "execution_count": null,
   "id": "bae25fa7",
   "metadata": {
    "ExecuteTime": {
     "end_time": "2023-05-28T15:05:22.018973Z",
     "start_time": "2023-05-28T15:05:22.002970Z"
    }
   },
   "outputs": [],
   "source": [
    "from sklearn.impute import SimpleImputer\n",
    "imp = SimpleImputer(missing_values = np.nan, strategy=\"mean\")\n",
    "X = imp.fit_transform(x)\n",
    "Y = y.reshape(-1,1)\n",
    "Y = imp.fit_transform(Y)\n",
    "Y = Y.reshape(-1)\n",
    "print(Y)"
   ]
  },
  {
   "cell_type": "code",
   "execution_count": null,
   "id": "cf3b2d84",
   "metadata": {
    "ExecuteTime": {
     "end_time": "2023-05-28T18:08:17.377009Z",
     "start_time": "2023-05-28T18:08:17.360616Z"
    }
   },
   "outputs": [],
   "source": [
    "from sklearn.preprocessing import MinMaxScaler\n",
    "scaler = MinMaxScaler(feature_range=(0,1))\n",
    "rescaledX = scaler.fit_transform(X[0,1].reshape(-1,1))\n",
    "np.set_printoptions(precision=2)\n",
    "X[:,1] = rescaledX.reshape(1,-1)\n",
    "print(X[:,1])"
   ]
  },
  {
   "cell_type": "code",
   "execution_count": null,
   "id": "72b576ba",
   "metadata": {
    "ExecuteTime": {
     "end_time": "2023-05-28T18:20:07.293082Z",
     "start_time": "2023-05-28T18:20:07.133034Z"
    }
   },
   "outputs": [],
   "source": [
    "from sklearn.preprocessing import Normalizer\n",
    "scaler = Normalizer().fit(X)\n",
    "normalizedx = scaler.transform(X)\n",
    "normalizedx"
   ]
  },
  {
   "cell_type": "markdown",
   "id": "595293c3",
   "metadata": {},
   "source": [
    "A manual component to machine learning, consists of preprocessing data to a form acceptable to\n",
    "#### b) algorithm"
   ]
  },
  {
   "cell_type": "markdown",
   "id": "4b1e1c4b",
   "metadata": {},
   "source": [
    "k-NN algorithm does more computation on test time rather than train time.\n",
    "#### b) False"
   ]
  },
  {
   "cell_type": "markdown",
   "id": "3e100cc8",
   "metadata": {},
   "source": [
    "Which of the following application is true about k-NN algorithm?\n",
    "#### c) Both a and b"
   ]
  },
  {
   "cell_type": "markdown",
   "id": "ffe9a2ba",
   "metadata": {},
   "source": [
    "Which of the following distance measure do we use in case of categorical variables in k-NN?\n",
    "#### a) Hamming Distance"
   ]
  },
  {
   "cell_type": "markdown",
   "id": "92a249a3",
   "metadata": {},
   "source": [
    "Which of the following will be Manhattan Distance between the two data point A(1,3) and\n",
    "B(2,3)?\n",
    "#### a) 1"
   ]
  },
  {
   "cell_type": "markdown",
   "id": "a0440bd1",
   "metadata": {},
   "source": [
    "### Task 2"
   ]
  },
  {
   "cell_type": "code",
   "execution_count": 7,
   "id": "ab49d731",
   "metadata": {
    "ExecuteTime": {
     "end_time": "2023-05-29T15:32:20.157240Z",
     "start_time": "2023-05-29T15:32:20.142239Z"
    }
   },
   "outputs": [],
   "source": [
    "df = pd.read_csv(r'Iris.csv')"
   ]
  },
  {
   "cell_type": "code",
   "execution_count": 8,
   "id": "b595d000",
   "metadata": {
    "ExecuteTime": {
     "end_time": "2023-05-29T15:32:22.888079Z",
     "start_time": "2023-05-29T15:32:22.873076Z"
    }
   },
   "outputs": [
    {
     "name": "stdout",
     "output_type": "stream",
     "text": [
      "   Id  SepalLengthCm  SepalWidthCm  PetalLengthCm  PetalWidthCm      Species\n",
      "0   1            5.1           3.5            1.4           0.2  Iris-setosa\n",
      "1   2            4.9           3.0            1.4           0.2  Iris-setosa\n",
      "2   3            4.7           3.2            1.3           0.2  Iris-setosa\n",
      "3   4            4.6           3.1            1.5           0.2  Iris-setosa\n",
      "4   5            5.0           3.6            1.4           0.2  Iris-setosa\n"
     ]
    }
   ],
   "source": [
    "print(df.head())"
   ]
  },
  {
   "cell_type": "code",
   "execution_count": 9,
   "id": "7f1b63b6",
   "metadata": {
    "ExecuteTime": {
     "end_time": "2023-05-29T15:32:29.100102Z",
     "start_time": "2023-05-29T15:32:29.092098Z"
    }
   },
   "outputs": [
    {
     "name": "stdout",
     "output_type": "stream",
     "text": [
      "(150, 6)\n"
     ]
    }
   ],
   "source": [
    "print(df.shape)"
   ]
  },
  {
   "cell_type": "code",
   "execution_count": 10,
   "id": "2670423f",
   "metadata": {
    "ExecuteTime": {
     "end_time": "2023-05-29T15:32:32.399605Z",
     "start_time": "2023-05-29T15:32:32.386170Z"
    }
   },
   "outputs": [
    {
     "name": "stdout",
     "output_type": "stream",
     "text": [
      "Id                 int64\n",
      "SepalLengthCm    float64\n",
      "SepalWidthCm     float64\n",
      "PetalLengthCm    float64\n",
      "PetalWidthCm     float64\n",
      "Species           object\n",
      "dtype: object\n"
     ]
    }
   ],
   "source": [
    "print(df.dtypes)"
   ]
  },
  {
   "cell_type": "code",
   "execution_count": 11,
   "id": "cf1f7c8e",
   "metadata": {
    "ExecuteTime": {
     "end_time": "2023-05-29T15:32:39.863201Z",
     "start_time": "2023-05-29T15:32:39.780606Z"
    }
   },
   "outputs": [
    {
     "name": "stdout",
     "output_type": "stream",
     "text": [
      "               Id  SepalLengthCm  SepalWidthCm  PetalLengthCm  PetalWidthCm\n",
      "count  150.000000     150.000000    150.000000     150.000000    150.000000\n",
      "mean    75.500000       5.843333      3.054000       3.758667      1.198667\n",
      "std     43.445368       0.828066      0.433594       1.764420      0.763161\n",
      "min      1.000000       4.300000      2.000000       1.000000      0.100000\n",
      "25%     38.250000       5.100000      2.800000       1.600000      0.300000\n",
      "50%     75.500000       5.800000      3.000000       4.350000      1.300000\n",
      "75%    112.750000       6.400000      3.300000       5.100000      1.800000\n",
      "max    150.000000       7.900000      4.400000       6.900000      2.500000\n"
     ]
    }
   ],
   "source": [
    "print(df.describe())"
   ]
  },
  {
   "cell_type": "code",
   "execution_count": 12,
   "id": "383dfa79",
   "metadata": {
    "ExecuteTime": {
     "end_time": "2023-05-29T15:35:01.943070Z",
     "start_time": "2023-05-29T15:35:01.914215Z"
    }
   },
   "outputs": [],
   "source": [
    "x = df[['SepalLengthCm', 'SepalWidthCm', 'PetalLengthCm', 'PetalWidthCm']]\n",
    "y = df['Species']"
   ]
  },
  {
   "cell_type": "code",
   "execution_count": 13,
   "id": "6012b496",
   "metadata": {
    "ExecuteTime": {
     "end_time": "2023-05-29T15:37:20.778609Z",
     "start_time": "2023-05-29T15:37:20.773051Z"
    }
   },
   "outputs": [],
   "source": [
    "lebal_encoder = LabelEncoder()\n",
    "y = lebal_encoder.fit_transform(y)"
   ]
  },
  {
   "cell_type": "code",
   "execution_count": 17,
   "id": "c8f7e5f0",
   "metadata": {
    "ExecuteTime": {
     "end_time": "2023-05-29T15:43:51.814676Z",
     "start_time": "2023-05-29T15:43:51.806678Z"
    }
   },
   "outputs": [],
   "source": [
    "X_train, X_test, y_train, y_test = train_test_split(x, y, test_size=0.5, random_state=100)"
   ]
  },
  {
   "cell_type": "code",
   "execution_count": 18,
   "id": "858e7246",
   "metadata": {
    "ExecuteTime": {
     "end_time": "2023-05-29T15:43:55.226190Z",
     "start_time": "2023-05-29T15:43:55.210189Z"
    }
   },
   "outputs": [],
   "source": [
    "scaler = StandardScaler()\n",
    "X_train = scaler.fit_transform(X_train)\n",
    "X_test = scaler.fit_transform(X_test)"
   ]
  },
  {
   "cell_type": "markdown",
   "id": "65f46d81",
   "metadata": {},
   "source": [
    "### Task 3"
   ]
  },
  {
   "cell_type": "code",
   "execution_count": 22,
   "id": "56c173c1",
   "metadata": {
    "ExecuteTime": {
     "end_time": "2023-05-29T16:01:42.770270Z",
     "start_time": "2023-05-29T16:01:42.731261Z"
    }
   },
   "outputs": [
    {
     "name": "stdout",
     "output_type": "stream",
     "text": [
      "Number of neighbor: 2, Accuracy: 0.88\n",
      "Number of neighbor: 4, Accuracy: 0.88\n",
      "Number of neighbor: 6, Accuracy: 0.8933333333333333\n",
      "Number of neighbor: 8, Accuracy: 0.8933333333333333\n",
      "Number of neighbor: 10, Accuracy: 0.8666666666666667\n"
     ]
    }
   ],
   "source": [
    "neighbors = [2,4,6,8,10]\n",
    "\n",
    "accuracy_scores = {}\n",
    "\n",
    "for k in neighbors:\n",
    "    knn = KNeighborsClassifier(n_neighbors=k)\n",
    "    \n",
    "    knn.fit(X_train,y_train)\n",
    "    \n",
    "    y_prediction = knn.predict(X_test)\n",
    "    \n",
    "    accuracy = accuracy_score(y_test,y_prediction)\n",
    "    accuracy_scores[k] = accuracy\n",
    "    \n",
    "for k,accuracy in accuracy_scores.items():\n",
    "    print(f\"Number of neighbor: {k}, Accuracy: {accuracy}\")"
   ]
  },
  {
   "cell_type": "markdown",
   "id": "e9e4cdd5",
   "metadata": {},
   "source": [
    "### Task 4"
   ]
  },
  {
   "cell_type": "code",
   "execution_count": 24,
   "id": "957d9f61",
   "metadata": {
    "ExecuteTime": {
     "end_time": "2023-05-29T16:16:26.729177Z",
     "start_time": "2023-05-29T16:16:26.643362Z"
    }
   },
   "outputs": [],
   "source": [
    "df = pd.read_csv(r'derm.csv')"
   ]
  },
  {
   "cell_type": "code",
   "execution_count": 25,
   "id": "7872899e",
   "metadata": {
    "ExecuteTime": {
     "end_time": "2023-05-29T16:17:01.474255Z",
     "start_time": "2023-05-29T16:17:01.460241Z"
    }
   },
   "outputs": [],
   "source": [
    "X_train, X_test, y_train, y_test = train_test_split(x, y, test_size=0.3, random_state=42)"
   ]
  },
  {
   "cell_type": "code",
   "execution_count": 27,
   "id": "3c9eddfc",
   "metadata": {
    "ExecuteTime": {
     "end_time": "2023-05-29T16:19:57.466246Z",
     "start_time": "2023-05-29T16:19:57.302264Z"
    }
   },
   "outputs": [
    {
     "name": "stdout",
     "output_type": "stream",
     "text": [
      "Confusion Matrix:\n",
      "[[19  0  0]\n",
      " [ 0 13  0]\n",
      " [ 0  0 13]]\n",
      "Classification Report:\n",
      "              precision    recall  f1-score   support\n",
      "\n",
      "           0       1.00      1.00      1.00        19\n",
      "           1       1.00      1.00      1.00        13\n",
      "           2       1.00      1.00      1.00        13\n",
      "\n",
      "    accuracy                           1.00        45\n",
      "   macro avg       1.00      1.00      1.00        45\n",
      "weighted avg       1.00      1.00      1.00        45\n",
      "\n"
     ]
    }
   ],
   "source": [
    "knn = KNeighborsClassifier(n_neighbors=3)\n",
    "knn.fit(X_train,y_train)\n",
    "y_prediction = knn.predict(X_test)\n",
    "cm = confusion_matrix(y_test,y_prediction)\n",
    "print(\"Confusion Matrix:\")\n",
    "print(cm)\n",
    "\n",
    "cr = classification_report(y_test, y_prediction)\n",
    "print(\"Classification Report:\")\n",
    "print(cr)"
   ]
  },
  {
   "cell_type": "code",
   "execution_count": 29,
   "id": "0af0e9b1",
   "metadata": {
    "ExecuteTime": {
     "end_time": "2023-05-29T16:23:41.507899Z",
     "start_time": "2023-05-29T16:23:41.375379Z"
    }
   },
   "outputs": [
    {
     "name": "stdout",
     "output_type": "stream",
     "text": [
      "Cross-Validation Scores:\n",
      "[1.         0.93333333 1.         0.93333333 0.86666667 1.\n",
      " 0.93333333 1.         1.         1.        ]\n",
      "Mean Accuracy: 0.9666666666666666\n"
     ]
    }
   ],
   "source": [
    "# Perform 10-fold cross-validation\n",
    "cv_scores = cross_val_score(knn, x, y, cv=10)\n",
    "\n",
    "# Display the cross-validation scores\n",
    "print(\"Cross-Validation Scores:\")\n",
    "print(cv_scores)\n",
    "print(\"Mean Accuracy:\", cv_scores.mean())"
   ]
  }
 ],
 "metadata": {
  "hide_input": false,
  "kernelspec": {
   "display_name": "Python 3 (ipykernel)",
   "language": "python",
   "name": "python3"
  },
  "language_info": {
   "codemirror_mode": {
    "name": "ipython",
    "version": 3
   },
   "file_extension": ".py",
   "mimetype": "text/x-python",
   "name": "python",
   "nbconvert_exporter": "python",
   "pygments_lexer": "ipython3",
   "version": "3.9.7"
  }
 },
 "nbformat": 4,
 "nbformat_minor": 5
}
